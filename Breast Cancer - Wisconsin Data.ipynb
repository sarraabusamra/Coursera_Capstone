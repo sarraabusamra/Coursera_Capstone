{
    "cells": [
        {
            "cell_type": "code",
            "execution_count": 1,
            "metadata": {},
            "outputs": [
                {
                    "name": "stdout",
                    "output_type": "stream",
                    "text": "Requirement already satisfied: seaborn in /opt/conda/envs/Python36/lib/python3.6/site-packages (0.9.0)\nRequirement already satisfied: scipy>=0.14.0 in /opt/conda/envs/Python36/lib/python3.6/site-packages (from seaborn) (1.2.0)\nRequirement already satisfied: pandas>=0.15.2 in /opt/conda/envs/Python36/lib/python3.6/site-packages (from seaborn) (0.24.1)\nRequirement already satisfied: matplotlib>=1.4.3 in /opt/conda/envs/Python36/lib/python3.6/site-packages (from seaborn) (3.0.2)\nRequirement already satisfied: numpy>=1.9.3 in /opt/conda/envs/Python36/lib/python3.6/site-packages (from seaborn) (1.15.4)\nRequirement already satisfied: pytz>=2011k in /opt/conda/envs/Python36/lib/python3.6/site-packages (from pandas>=0.15.2->seaborn) (2018.9)\nRequirement already satisfied: python-dateutil>=2.5.0 in /opt/conda/envs/Python36/lib/python3.6/site-packages (from pandas>=0.15.2->seaborn) (2.7.5)\nRequirement already satisfied: cycler>=0.10 in /opt/conda/envs/Python36/lib/python3.6/site-packages (from matplotlib>=1.4.3->seaborn) (0.10.0)\nRequirement already satisfied: kiwisolver>=1.0.1 in /opt/conda/envs/Python36/lib/python3.6/site-packages (from matplotlib>=1.4.3->seaborn) (1.0.1)\nRequirement already satisfied: pyparsing!=2.0.4,!=2.1.2,!=2.1.6,>=2.0.1 in /opt/conda/envs/Python36/lib/python3.6/site-packages (from matplotlib>=1.4.3->seaborn) (2.3.1)\nRequirement already satisfied: six>=1.5 in /opt/conda/envs/Python36/lib/python3.6/site-packages (from python-dateutil>=2.5.0->pandas>=0.15.2->seaborn) (1.12.0)\nRequirement already satisfied: setuptools in /opt/conda/envs/Python36/lib/python3.6/site-packages (from kiwisolver>=1.0.1->matplotlib>=1.4.3->seaborn) (40.8.0)\n"
                }
            ],
            "source": "import pandas as pd\nimport numpy as np\nimport pylab as pl\n\n%matplotlib inline\nimport matplotlib.pyplot as plt\nfrom matplotlib import pyplot\n\nfrom sklearn import preprocessing\nfrom sklearn.model_selection import train_test_split\nfrom sklearn.linear_model import LogisticRegression\nfrom sklearn.metrics import jaccard_similarity_score\nfrom sklearn.metrics import classification_report, confusion_matrix\nfrom sklearn.metrics import log_loss\n\nimport itertools\nimport scipy.optimize as opt\n! pip install seaborn\nimport seaborn as sns"
        },
        {
            "cell_type": "code",
            "execution_count": 2,
            "metadata": {},
            "outputs": [],
            "source": "filename = 'http://mlr.cs.umass.edu/ml/machine-learning-databases/breast-cancer-wisconsin/breast-cancer-wisconsin.data'\n#All Independent Attributes (ID: 1-10), Dependent Variable, class (2 = benign; 4 = malignant)\nheaders = [\"sample-code\", \"clump-thickness\", \"unifcell-size\", \"unifcell-shape\", \"marg-adhesion\", \"se-cellsize\", \"bare-nuclei\", \"bland-chromatin\", \"normal-nucleoli\", \"mitoses\", \"class\"]"
        },
        {
            "cell_type": "code",
            "execution_count": 3,
            "metadata": {},
            "outputs": [
                {
                    "name": "stdout",
                    "output_type": "stream",
                    "text": "Done\n"
                }
            ],
            "source": "df = pd.read_csv(filename, names = headers)\nprint(\"Done\")"
        },
        {
            "cell_type": "code",
            "execution_count": 4,
            "metadata": {},
            "outputs": [
                {
                    "data": {
                        "text/html": "<div>\n<style scoped>\n    .dataframe tbody tr th:only-of-type {\n        vertical-align: middle;\n    }\n\n    .dataframe tbody tr th {\n        vertical-align: top;\n    }\n\n    .dataframe thead th {\n        text-align: right;\n    }\n</style>\n<table border=\"1\" class=\"dataframe\">\n  <thead>\n    <tr style=\"text-align: right;\">\n      <th></th>\n      <th>sample-code</th>\n      <th>clump-thickness</th>\n      <th>unifcell-size</th>\n      <th>unifcell-shape</th>\n      <th>marg-adhesion</th>\n      <th>se-cellsize</th>\n      <th>bare-nuclei</th>\n      <th>bland-chromatin</th>\n      <th>normal-nucleoli</th>\n      <th>mitoses</th>\n      <th>class</th>\n    </tr>\n  </thead>\n  <tbody>\n    <tr>\n      <th>0</th>\n      <td>1000025</td>\n      <td>5</td>\n      <td>1</td>\n      <td>1</td>\n      <td>1</td>\n      <td>2</td>\n      <td>1</td>\n      <td>3</td>\n      <td>1</td>\n      <td>1</td>\n      <td>2</td>\n    </tr>\n    <tr>\n      <th>1</th>\n      <td>1002945</td>\n      <td>5</td>\n      <td>4</td>\n      <td>4</td>\n      <td>5</td>\n      <td>7</td>\n      <td>10</td>\n      <td>3</td>\n      <td>2</td>\n      <td>1</td>\n      <td>2</td>\n    </tr>\n    <tr>\n      <th>2</th>\n      <td>1015425</td>\n      <td>3</td>\n      <td>1</td>\n      <td>1</td>\n      <td>1</td>\n      <td>2</td>\n      <td>2</td>\n      <td>3</td>\n      <td>1</td>\n      <td>1</td>\n      <td>2</td>\n    </tr>\n    <tr>\n      <th>3</th>\n      <td>1016277</td>\n      <td>6</td>\n      <td>8</td>\n      <td>8</td>\n      <td>1</td>\n      <td>3</td>\n      <td>4</td>\n      <td>3</td>\n      <td>7</td>\n      <td>1</td>\n      <td>2</td>\n    </tr>\n    <tr>\n      <th>4</th>\n      <td>1017023</td>\n      <td>4</td>\n      <td>1</td>\n      <td>1</td>\n      <td>3</td>\n      <td>2</td>\n      <td>1</td>\n      <td>3</td>\n      <td>1</td>\n      <td>1</td>\n      <td>2</td>\n    </tr>\n  </tbody>\n</table>\n</div>",
                        "text/plain": "   sample-code  clump-thickness  unifcell-size  unifcell-shape  marg-adhesion  \\\n0      1000025                5              1               1              1   \n1      1002945                5              4               4              5   \n2      1015425                3              1               1              1   \n3      1016277                6              8               8              1   \n4      1017023                4              1               1              3   \n\n   se-cellsize bare-nuclei  bland-chromatin  normal-nucleoli  mitoses  class  \n0            2           1                3                1        1      2  \n1            7          10                3                2        1      2  \n2            2           2                3                1        1      2  \n3            3           4                3                7        1      2  \n4            2           1                3                1        1      2  "
                    },
                    "execution_count": 4,
                    "metadata": {},
                    "output_type": "execute_result"
                }
            ],
            "source": "df.head()"
        },
        {
            "cell_type": "code",
            "execution_count": 5,
            "metadata": {},
            "outputs": [],
            "source": "df.replace(\"?\", np.nan, inplace = True)"
        },
        {
            "cell_type": "code",
            "execution_count": 6,
            "metadata": {},
            "outputs": [
                {
                    "data": {
                        "text/html": "<div>\n<style scoped>\n    .dataframe tbody tr th:only-of-type {\n        vertical-align: middle;\n    }\n\n    .dataframe tbody tr th {\n        vertical-align: top;\n    }\n\n    .dataframe thead th {\n        text-align: right;\n    }\n</style>\n<table border=\"1\" class=\"dataframe\">\n  <thead>\n    <tr style=\"text-align: right;\">\n      <th></th>\n      <th>sample-code</th>\n      <th>clump-thickness</th>\n      <th>unifcell-size</th>\n      <th>unifcell-shape</th>\n      <th>marg-adhesion</th>\n      <th>se-cellsize</th>\n      <th>bare-nuclei</th>\n      <th>bland-chromatin</th>\n      <th>normal-nucleoli</th>\n      <th>mitoses</th>\n      <th>class</th>\n    </tr>\n  </thead>\n  <tbody>\n    <tr>\n      <th>0</th>\n      <td>False</td>\n      <td>False</td>\n      <td>False</td>\n      <td>False</td>\n      <td>False</td>\n      <td>False</td>\n      <td>False</td>\n      <td>False</td>\n      <td>False</td>\n      <td>False</td>\n      <td>False</td>\n    </tr>\n    <tr>\n      <th>1</th>\n      <td>False</td>\n      <td>False</td>\n      <td>False</td>\n      <td>False</td>\n      <td>False</td>\n      <td>False</td>\n      <td>False</td>\n      <td>False</td>\n      <td>False</td>\n      <td>False</td>\n      <td>False</td>\n    </tr>\n    <tr>\n      <th>2</th>\n      <td>False</td>\n      <td>False</td>\n      <td>False</td>\n      <td>False</td>\n      <td>False</td>\n      <td>False</td>\n      <td>False</td>\n      <td>False</td>\n      <td>False</td>\n      <td>False</td>\n      <td>False</td>\n    </tr>\n    <tr>\n      <th>3</th>\n      <td>False</td>\n      <td>False</td>\n      <td>False</td>\n      <td>False</td>\n      <td>False</td>\n      <td>False</td>\n      <td>False</td>\n      <td>False</td>\n      <td>False</td>\n      <td>False</td>\n      <td>False</td>\n    </tr>\n    <tr>\n      <th>4</th>\n      <td>False</td>\n      <td>False</td>\n      <td>False</td>\n      <td>False</td>\n      <td>False</td>\n      <td>False</td>\n      <td>False</td>\n      <td>False</td>\n      <td>False</td>\n      <td>False</td>\n      <td>False</td>\n    </tr>\n  </tbody>\n</table>\n</div>",
                        "text/plain": "   sample-code  clump-thickness  unifcell-size  unifcell-shape  marg-adhesion  \\\n0        False            False          False           False          False   \n1        False            False          False           False          False   \n2        False            False          False           False          False   \n3        False            False          False           False          False   \n4        False            False          False           False          False   \n\n   se-cellsize  bare-nuclei  bland-chromatin  normal-nucleoli  mitoses  class  \n0        False        False            False            False    False  False  \n1        False        False            False            False    False  False  \n2        False        False            False            False    False  False  \n3        False        False            False            False    False  False  \n4        False        False            False            False    False  False  "
                    },
                    "execution_count": 6,
                    "metadata": {},
                    "output_type": "execute_result"
                }
            ],
            "source": "missing_data = df.isnull()\nmissing_data.head(5)"
        },
        {
            "cell_type": "code",
            "execution_count": 7,
            "metadata": {},
            "outputs": [
                {
                    "name": "stdout",
                    "output_type": "stream",
                    "text": "sample-code\nFalse    699\nName: sample-code, dtype: int64\n\nclump-thickness\nFalse    699\nName: clump-thickness, dtype: int64\n\nunifcell-size\nFalse    699\nName: unifcell-size, dtype: int64\n\nunifcell-shape\nFalse    699\nName: unifcell-shape, dtype: int64\n\nmarg-adhesion\nFalse    699\nName: marg-adhesion, dtype: int64\n\nse-cellsize\nFalse    699\nName: se-cellsize, dtype: int64\n\nbare-nuclei\nFalse    683\nTrue      16\nName: bare-nuclei, dtype: int64\n\nbland-chromatin\nFalse    699\nName: bland-chromatin, dtype: int64\n\nnormal-nucleoli\nFalse    699\nName: normal-nucleoli, dtype: int64\n\nmitoses\nFalse    699\nName: mitoses, dtype: int64\n\nclass\nFalse    699\nName: class, dtype: int64\n\n"
                }
            ],
            "source": "for column in missing_data.columns.values.tolist():\n    print(column)\n    print (missing_data[column].value_counts())\n    print(\"\")    "
        },
        {
            "cell_type": "code",
            "execution_count": 8,
            "metadata": {},
            "outputs": [
                {
                    "name": "stdout",
                    "output_type": "stream",
                    "text": "Average Bare Nuclei:  3.5446559297218156 , Most Frequent Bare Nuclei:  1\n"
                }
            ],
            "source": "avg_barenuclei = df['bare-nuclei'].astype('float').mean(axis=0)\nfreq_barenuclei = df['bare-nuclei'].value_counts().idxmax()\nprint(\"Average Bare Nuclei: \", avg_barenuclei, \", Most Frequent Bare Nuclei: \", freq_barenuclei)"
        },
        {
            "cell_type": "code",
            "execution_count": 9,
            "metadata": {},
            "outputs": [],
            "source": "#replace the missing 'bare-nuclei' values by the most frequent \ndf[\"bare-nuclei\"].replace(np.nan, 1, inplace=True)"
        },
        {
            "cell_type": "code",
            "execution_count": 10,
            "metadata": {},
            "outputs": [],
            "source": "df[\"class\"].replace([2,4],[0,1], inplace=True)"
        },
        {
            "cell_type": "code",
            "execution_count": 11,
            "metadata": {},
            "outputs": [],
            "source": "df[[\"bare-nuclei\"]] = df[[\"bare-nuclei\"]].astype(\"int\")"
        },
        {
            "cell_type": "code",
            "execution_count": 12,
            "metadata": {},
            "outputs": [
                {
                    "data": {
                        "text/plain": "sample-code        int64\nclump-thickness    int64\nunifcell-size      int64\nunifcell-shape     int64\nmarg-adhesion      int64\nse-cellsize        int64\nbare-nuclei        int64\nbland-chromatin    int64\nnormal-nucleoli    int64\nmitoses            int64\nclass              int64\ndtype: object"
                    },
                    "execution_count": 12,
                    "metadata": {},
                    "output_type": "execute_result"
                }
            ],
            "source": "df.dtypes"
        },
        {
            "cell_type": "markdown",
            "metadata": {},
            "source": "Since the <i>Class</i> attribute is categorical with only two possible values, the most appropriate ML model is:\n    <h3>Logistic Regression - Binary Classification</h3>"
        },
        {
            "cell_type": "code",
            "execution_count": 13,
            "metadata": {},
            "outputs": [
                {
                    "data": {
                        "text/html": "<div>\n<style scoped>\n    .dataframe tbody tr th:only-of-type {\n        vertical-align: middle;\n    }\n\n    .dataframe tbody tr th {\n        vertical-align: top;\n    }\n\n    .dataframe thead th {\n        text-align: right;\n    }\n</style>\n<table border=\"1\" class=\"dataframe\">\n  <thead>\n    <tr style=\"text-align: right;\">\n      <th></th>\n      <th>sample-code</th>\n      <th>clump-thickness</th>\n      <th>unifcell-size</th>\n      <th>unifcell-shape</th>\n      <th>marg-adhesion</th>\n      <th>se-cellsize</th>\n      <th>bare-nuclei</th>\n      <th>bland-chromatin</th>\n      <th>normal-nucleoli</th>\n      <th>mitoses</th>\n      <th>class</th>\n    </tr>\n  </thead>\n  <tbody>\n    <tr>\n      <th>0</th>\n      <td>1000025</td>\n      <td>5</td>\n      <td>1</td>\n      <td>1</td>\n      <td>1</td>\n      <td>2</td>\n      <td>1</td>\n      <td>3</td>\n      <td>1</td>\n      <td>1</td>\n      <td>0</td>\n    </tr>\n    <tr>\n      <th>1</th>\n      <td>1002945</td>\n      <td>5</td>\n      <td>4</td>\n      <td>4</td>\n      <td>5</td>\n      <td>7</td>\n      <td>10</td>\n      <td>3</td>\n      <td>2</td>\n      <td>1</td>\n      <td>0</td>\n    </tr>\n    <tr>\n      <th>2</th>\n      <td>1015425</td>\n      <td>3</td>\n      <td>1</td>\n      <td>1</td>\n      <td>1</td>\n      <td>2</td>\n      <td>2</td>\n      <td>3</td>\n      <td>1</td>\n      <td>1</td>\n      <td>0</td>\n    </tr>\n    <tr>\n      <th>3</th>\n      <td>1016277</td>\n      <td>6</td>\n      <td>8</td>\n      <td>8</td>\n      <td>1</td>\n      <td>3</td>\n      <td>4</td>\n      <td>3</td>\n      <td>7</td>\n      <td>1</td>\n      <td>0</td>\n    </tr>\n    <tr>\n      <th>4</th>\n      <td>1017023</td>\n      <td>4</td>\n      <td>1</td>\n      <td>1</td>\n      <td>3</td>\n      <td>2</td>\n      <td>1</td>\n      <td>3</td>\n      <td>1</td>\n      <td>1</td>\n      <td>0</td>\n    </tr>\n  </tbody>\n</table>\n</div>",
                        "text/plain": "   sample-code  clump-thickness  unifcell-size  unifcell-shape  marg-adhesion  \\\n0      1000025                5              1               1              1   \n1      1002945                5              4               4              5   \n2      1015425                3              1               1              1   \n3      1016277                6              8               8              1   \n4      1017023                4              1               1              3   \n\n   se-cellsize  bare-nuclei  bland-chromatin  normal-nucleoli  mitoses  class  \n0            2            1                3                1        1      0  \n1            7           10                3                2        1      0  \n2            2            2                3                1        1      0  \n3            3            4                3                7        1      0  \n4            2            1                3                1        1      0  "
                    },
                    "execution_count": 13,
                    "metadata": {},
                    "output_type": "execute_result"
                }
            ],
            "source": "df.head()"
        },
        {
            "cell_type": "code",
            "execution_count": 14,
            "metadata": {},
            "outputs": [
                {
                    "data": {
                        "text/plain": "(699, 11)"
                    },
                    "execution_count": 14,
                    "metadata": {},
                    "output_type": "execute_result"
                }
            ],
            "source": "df.shape"
        },
        {
            "cell_type": "code",
            "execution_count": 15,
            "metadata": {},
            "outputs": [
                {
                    "data": {
                        "text/plain": "array([[ 1,  1,  1,  1],\n       [ 4,  4,  5, 10],\n       [ 1,  1,  1,  2],\n       [ 8,  8,  1,  4],\n       [ 1,  1,  3,  1]])"
                    },
                    "execution_count": 15,
                    "metadata": {},
                    "output_type": "execute_result"
                }
            ],
            "source": "X = np.asarray(df[[\"unifcell-size\", \"unifcell-shape\", \"marg-adhesion\", \"bare-nuclei\"]])\nX[0:5]"
        },
        {
            "cell_type": "code",
            "execution_count": 16,
            "metadata": {},
            "outputs": [
                {
                    "data": {
                        "text/plain": "array([0, 0, 0, 0, 0])"
                    },
                    "execution_count": 16,
                    "metadata": {},
                    "output_type": "execute_result"
                }
            ],
            "source": "y = np.asarray(df[\"class\"])\ny[0:5]"
        },
        {
            "cell_type": "code",
            "execution_count": 17,
            "metadata": {},
            "outputs": [
                {
                    "name": "stderr",
                    "output_type": "stream",
                    "text": "/opt/conda/envs/Python36/lib/python3.6/site-packages/sklearn/utils/validation.py:595: DataConversionWarning: Data with input dtype int64 was converted to float64 by StandardScaler.\n  warnings.warn(msg, DataConversionWarning)\n/opt/conda/envs/Python36/lib/python3.6/site-packages/sklearn/utils/validation.py:595: DataConversionWarning: Data with input dtype int64 was converted to float64 by StandardScaler.\n  warnings.warn(msg, DataConversionWarning)\n"
                },
                {
                    "data": {
                        "text/plain": "array([[-0.69999505, -0.74329904, -0.63324716, -0.68697917],\n       [ 0.28384518,  0.2668747 ,  0.76862067,  1.79966407],\n       [-0.69999505, -0.74329904, -0.63324716, -0.41068547],\n       [ 1.59563215,  1.61377302, -0.63324716,  0.14190191],\n       [-0.69999505, -0.74329904,  0.06768675, -0.68697917]])"
                    },
                    "execution_count": 17,
                    "metadata": {},
                    "output_type": "execute_result"
                }
            ],
            "source": "X = preprocessing.StandardScaler().fit(X).transform(X)\nX[0:5]"
        },
        {
            "cell_type": "code",
            "execution_count": 18,
            "metadata": {},
            "outputs": [
                {
                    "name": "stdout",
                    "output_type": "stream",
                    "text": "Train set:  (559, 4) (559,)\nTest set:  (140, 4) (140,)\n"
                }
            ],
            "source": "X_train, X_test, y_train, y_test = train_test_split( X, y, test_size=0.2, random_state=4)\nprint(\"Train set: \", X_train.shape, y_train.shape)\nprint(\"Test set: \", X_test.shape, y_test.shape)"
        },
        {
            "cell_type": "code",
            "execution_count": 19,
            "metadata": {},
            "outputs": [
                {
                    "data": {
                        "text/plain": "LogisticRegression(C=0.01, class_weight=None, dual=False, fit_intercept=True,\n          intercept_scaling=1, max_iter=100, multi_class='warn',\n          n_jobs=None, penalty='l2', random_state=None, solver='liblinear',\n          tol=0.0001, verbose=0, warm_start=False)"
                    },
                    "execution_count": 19,
                    "metadata": {},
                    "output_type": "execute_result"
                }
            ],
            "source": "LR = LogisticRegression(C=0.01, solver='liblinear').fit(X_train,y_train)\nLR"
        },
        {
            "cell_type": "code",
            "execution_count": 20,
            "metadata": {},
            "outputs": [
                {
                    "data": {
                        "text/plain": "array([1, 0, 0, 0, 0, 0, 0, 1, 1, 1, 0, 0, 0, 0, 1, 1, 0, 0, 0, 0, 0, 1,\n       0, 0, 0, 0, 0, 0, 1, 1, 0, 1, 0, 0, 0, 1, 0, 1, 1, 0, 0, 1, 1, 0,\n       0, 0, 0, 0, 0, 0, 0, 1, 0, 0, 0, 0, 1, 1, 1, 1, 0, 0, 1, 1, 1, 0,\n       0, 0, 0, 0, 1, 1, 1, 0, 0, 0, 1, 0, 0, 0, 0, 0, 0, 0, 0, 0, 0, 1,\n       1, 0, 0, 0, 0, 1, 1, 1, 0, 1, 1, 0, 1, 0, 1, 0, 0, 0, 0, 0, 0, 0,\n       0, 0, 0, 1, 0, 1, 1, 0, 0, 0, 1, 0, 1, 0, 0, 0, 0, 1, 0, 1, 0, 0,\n       0, 1, 0, 1, 0, 0, 1, 1])"
                    },
                    "execution_count": 20,
                    "metadata": {},
                    "output_type": "execute_result"
                }
            ],
            "source": "yhat = LR.predict(X_test)\nyhat"
        },
        {
            "cell_type": "code",
            "execution_count": 21,
            "metadata": {},
            "outputs": [
                {
                    "data": {
                        "text/plain": "array([[0.09674372, 0.90325628],\n       [0.85366855, 0.14633145],\n       [0.71427875, 0.28572125],\n       [0.68773594, 0.31226406],\n       [0.85366855, 0.14633145],\n       [0.7627272 , 0.2372728 ],\n       [0.81406921, 0.18593079],\n       [0.19811441, 0.80188559],\n       [0.05031371, 0.94968629],\n       [0.0254724 , 0.9745276 ],\n       [0.81406921, 0.18593079],\n       [0.85366855, 0.14633145],\n       [0.80469589, 0.19530411],\n       [0.85366855, 0.14633145],\n       [0.47416434, 0.52583566],\n       [0.0632435 , 0.9367565 ],\n       [0.71991626, 0.28008374],\n       [0.85366855, 0.14633145],\n       [0.77445444, 0.22554556],\n       [0.85366855, 0.14633145],\n       [0.85366855, 0.14633145],\n       [0.12016098, 0.87983902],\n       [0.85366855, 0.14633145],\n       [0.85366855, 0.14633145],\n       [0.83481855, 0.16518145],\n       [0.59224509, 0.40775491],\n       [0.85366855, 0.14633145],\n       [0.8299952 , 0.1700048 ],\n       [0.06940286, 0.93059714],\n       [0.02753966, 0.97246034],\n       [0.85366855, 0.14633145],\n       [0.09989663, 0.90010337],\n       [0.56348526, 0.43651474],\n       [0.80403586, 0.19596414],\n       [0.85366855, 0.14633145],\n       [0.05883553, 0.94116447],\n       [0.85366855, 0.14633145],\n       [0.11698579, 0.88301421],\n       [0.04966871, 0.95033129],\n       [0.80469589, 0.19530411],\n       [0.83481855, 0.16518145],\n       [0.11516201, 0.88483799],\n       [0.15057688, 0.84942312],\n       [0.85366855, 0.14633145],\n       [0.80337413, 0.19662587],\n       [0.85366855, 0.14633145],\n       [0.85366855, 0.14633145],\n       [0.78771202, 0.21228798],\n       [0.85366855, 0.14633145],\n       [0.80877876, 0.19122124],\n       [0.77372094, 0.22627906],\n       [0.25896403, 0.74103597],\n       [0.85366855, 0.14633145],\n       [0.85366855, 0.14633145],\n       [0.85366855, 0.14633145],\n       [0.85366855, 0.14633145],\n       [0.05031371, 0.94968629],\n       [0.37231086, 0.62768914],\n       [0.4180803 , 0.5819197 ],\n       [0.13928755, 0.86071245],\n       [0.85366855, 0.14633145],\n       [0.85366855, 0.14633145],\n       [0.01653105, 0.98346895],\n       [0.06863313, 0.93136687],\n       [0.27495757, 0.72504243],\n       [0.85366855, 0.14633145],\n       [0.74919661, 0.25080339],\n       [0.83481855, 0.16518145],\n       [0.71288954, 0.28711046],\n       [0.85366855, 0.14633145],\n       [0.35031456, 0.64968544],\n       [0.05436713, 0.94563287],\n       [0.07688989, 0.92311011],\n       [0.77372094, 0.22627906],\n       [0.83329727, 0.16670273],\n       [0.85366855, 0.14633145],\n       [0.19212074, 0.80787926],\n       [0.85366855, 0.14633145],\n       [0.64384447, 0.35615553],\n       [0.85366855, 0.14633145],\n       [0.85366855, 0.14633145],\n       [0.77445444, 0.22554556],\n       [0.85366855, 0.14633145],\n       [0.85366855, 0.14633145],\n       [0.85366855, 0.14633145],\n       [0.85366855, 0.14633145],\n       [0.83481855, 0.16518145],\n       [0.13305573, 0.86694427],\n       [0.25298971, 0.74701029],\n       [0.75486212, 0.24513788],\n       [0.65458609, 0.34541391],\n       [0.81071884, 0.18928116],\n       [0.83481855, 0.16518145],\n       [0.03855172, 0.96144828],\n       [0.07688989, 0.92311011],\n       [0.30488645, 0.69511355],\n       [0.85366855, 0.14633145],\n       [0.37549025, 0.62450975],\n       [0.24281249, 0.75718751],\n       [0.85366855, 0.14633145],\n       [0.01653105, 0.98346895],\n       [0.85366855, 0.14633145],\n       [0.30357976, 0.69642024],\n       [0.85366855, 0.14633145],\n       [0.85366855, 0.14633145],\n       [0.85366855, 0.14633145],\n       [0.80403586, 0.19596414],\n       [0.85366855, 0.14633145],\n       [0.85366855, 0.14633145],\n       [0.85366855, 0.14633145],\n       [0.85366855, 0.14633145],\n       [0.85366855, 0.14633145],\n       [0.85366855, 0.14633145],\n       [0.41564921, 0.58435079],\n       [0.85366855, 0.14633145],\n       [0.02897694, 0.97102306],\n       [0.17224535, 0.82775465],\n       [0.85366855, 0.14633145],\n       [0.85366855, 0.14633145],\n       [0.85366855, 0.14633145],\n       [0.14778671, 0.85221329],\n       [0.85366855, 0.14633145],\n       [0.02190595, 0.97809405],\n       [0.71906767, 0.28093233],\n       [0.85366855, 0.14633145],\n       [0.83058623, 0.16941377],\n       [0.67934745, 0.32065255],\n       [0.04388301, 0.95611699],\n       [0.80403586, 0.19596414],\n       [0.01653105, 0.98346895],\n       [0.85366855, 0.14633145],\n       [0.8299952 , 0.1700048 ],\n       [0.77971715, 0.22028285],\n       [0.33287531, 0.66712469],\n       [0.81406921, 0.18593079],\n       [0.373148  , 0.626852  ],\n       [0.85366855, 0.14633145],\n       [0.85366855, 0.14633145],\n       [0.21298964, 0.78701036],\n       [0.07115398, 0.92884602]])"
                    },
                    "execution_count": 21,
                    "metadata": {},
                    "output_type": "execute_result"
                }
            ],
            "source": "yhat_prob = LR.predict_proba(X_test)\nyhat_prob"
        },
        {
            "cell_type": "markdown",
            "metadata": {},
            "source": "<h3>Jaccard Index</h3>"
        },
        {
            "cell_type": "code",
            "execution_count": 22,
            "metadata": {},
            "outputs": [
                {
                    "data": {
                        "text/plain": "0.95"
                    },
                    "execution_count": 22,
                    "metadata": {},
                    "output_type": "execute_result"
                }
            ],
            "source": "jaccard_similarity_score(y_test, yhat)"
        },
        {
            "cell_type": "markdown",
            "metadata": {},
            "source": "<h3>Confusion Matrix</h3>"
        },
        {
            "cell_type": "code",
            "execution_count": 23,
            "metadata": {},
            "outputs": [
                {
                    "name": "stdout",
                    "output_type": "stream",
                    "text": "[[46  6]\n [ 1 87]]\n"
                }
            ],
            "source": "def plot_confusion_matrix(cm, classes,\n                         normalize = False,\n                         title=\"Confusion Matrix\",\n                         cmap=plt.cm.Blues):\n    \"\"\"\n    This function prints and plots the confusion matrix.\n    Normalization can be applied by setting 'normalize=True'.\n    \"\"\"\n    if normalize:\n        cm = cm.astype('float') / cm.sum(axis=1)[:, np.newaxis]\n        print(\"Normalized Confusion Matrix\")\n    else:\n        print(\"Confusion Matrix, without normalization\")\n    print(cm)\n    \n    plt.imshow(cm, interpolation='nearest', cmap=cmap)\n    plt.title(title)\n    plt.colorbar()\n    tick_marks = np.arange(len(classes))\n    plt.xticks(tick_marks, classes, rotation=45)\n    plt.yticks(tick_marks, classes)\n    \n    fmt = '.2f' if normalize else 'd'\n    thresh = cm.max() / 2.\n    for i, j in itertools.product(range(cm.shape[0]), range(cm.shape[1])):\n        plt.text(j, i, format(cm[i,j], fmt),\n                horizontalalignment=\"center\",\n                color=\"white\" if cm[i, j] > thresh else \"black\")\n        \n    plt.tight_layout()\n    plt.ylabel(\"True Label\")\n    plt.xlabel(\"Predicted Label\")\nprint(confusion_matrix(y_test, yhat, labels=[1,0]))    "
        },
        {
            "cell_type": "code",
            "execution_count": 27,
            "metadata": {},
            "outputs": [
                {
                    "name": "stdout",
                    "output_type": "stream",
                    "text": "Confusion Matrix, without normalization\n[[46  6]\n [ 1 87]]\n"
                },
                {
                    "data": {
                        "image/png": "[encoded data removed]",
                        "text/plain": "<Figure size 432x288 with 2 Axes>"
                    },
                    "metadata": {
                        "needs_background": "light"
                    },
                    "output_type": "display_data"
                }
            ],
            "source": "# Compute confusion matrix\ncnf_matrix = confusion_matrix(y_test, yhat, labels=[1,0])\nnp.set_printoptions(precision=2)\n\n#Plot non-normalized confusion matrix\nplt.figure()\nplot_confusion_matrix(cnf_matrix, classes=['class=1', 'class=0'], normalize= False, title='Confusion Matrix')"
        },
        {
            "cell_type": "code",
            "execution_count": 28,
            "metadata": {},
            "outputs": [
                {
                    "name": "stdout",
                    "output_type": "stream",
                    "text": "              precision    recall  f1-score   support\n\n           0       0.94      0.99      0.96        88\n           1       0.98      0.88      0.93        52\n\n   micro avg       0.95      0.95      0.95       140\n   macro avg       0.96      0.94      0.95       140\nweighted avg       0.95      0.95      0.95       140\n\n"
                }
            ],
            "source": "print (classification_report(y_test, yhat))"
        },
        {
            "cell_type": "code",
            "execution_count": 29,
            "metadata": {},
            "outputs": [
                {
                    "data": {
                        "text/plain": "0.2301971374403281"
                    },
                    "execution_count": 29,
                    "metadata": {},
                    "output_type": "execute_result"
                }
            ],
            "source": "log_loss(y_test, yhat_prob)"
        },
        {
            "cell_type": "code",
            "execution_count": null,
            "metadata": {},
            "outputs": [],
            "source": ""
        }
    ],
    "metadata": {
        "kernelspec": {
            "display_name": "Python 3.6",
            "language": "python",
            "name": "python3"
        },
        "language_info": {
            "codemirror_mode": {
                "name": "ipython",
                "version": 3
            },
            "file_extension": ".py",
            "mimetype": "text/x-python",
            "name": "python",
            "nbconvert_exporter": "python",
            "pygments_lexer": "ipython3",
            "version": "3.6.9"
        }
    },
    "nbformat": 4,
    "nbformat_minor": 1
}